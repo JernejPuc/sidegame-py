{
 "cells": [
  {
   "cell_type": "code",
   "execution_count": 1,
   "metadata": {},
   "outputs": [],
   "source": [
    "import numpy as np\n",
    "import cv2\n",
    "import matplotlib.pyplot as plt"
   ]
  },
  {
   "cell_type": "markdown",
   "metadata": {},
   "source": [
    "### Wall angle"
   ]
  },
  {
   "cell_type": "code",
   "execution_count": 2,
   "metadata": {},
   "outputs": [],
   "source": [
    "codemap = cv2.imread('../sidegame/assets/maps/de_cache_code.png', cv2.IMREAD_COLOR)"
   ]
  },
  {
   "cell_type": "code",
   "execution_count": 3,
   "metadata": {},
   "outputs": [],
   "source": [
    "walls = codemap[..., 1] == 255"
   ]
  },
  {
   "cell_type": "code",
   "execution_count": 4,
   "metadata": {},
   "outputs": [
    {
     "data": {
      "image/png": "[encoded data removed]",
      "text/plain": [
       "<Figure size 432x288 with 1 Axes>"
      ]
     },
     "metadata": {
      "needs_background": "light"
     },
     "output_type": "display_data"
    }
   ],
   "source": [
    "plt.imshow(walls, cmap='gray', vmin=-2, vmax=2);"
   ]
  },
  {
   "cell_type": "code",
   "execution_count": 5,
   "metadata": {},
   "outputs": [],
   "source": [
    "# In direction of ascending indices\n",
    "ver_kernel = np.array([[-1, -1, -1], [0, 0, 0], [1, 1, 1]])\n",
    "hor_kernel = np.array([[-1, 0, 1], [-1, 0, 1], [-1, 0, 1]])"
   ]
  },
  {
   "cell_type": "code",
   "execution_count": 6,
   "metadata": {},
   "outputs": [],
   "source": [
    "def apply_kernels(idx, idy):\n",
    "    _, (ax1, ax2, ax3) = plt.subplots(1, 3)\n",
    "    \n",
    "    wall_chunk = walls[idy:idy+3, idx:idx+3]\n",
    "\n",
    "    ver_mult = ver_kernel * wall_chunk\n",
    "    hor_mult = hor_kernel * wall_chunk\n",
    "    \n",
    "    ax1.imshow(wall_chunk, cmap='gray', interpolation='nearest', vmin=-2, vmax=2)\n",
    "    ax2.imshow(ver_mult, cmap='gray', interpolation='nearest', vmin=-1, vmax=1)\n",
    "    ax3.imshow(hor_mult, cmap='gray', interpolation='nearest', vmin=-1, vmax=1)\n",
    "    \n",
    "    ax1.set_title('Wall chunk')\n",
    "    ax2.set_title('Ver. mult.')\n",
    "    ax3.set_title('Hor. mult.')\n",
    "\n",
    "    return np.sum(ver_mult), np.sum(hor_mult)"
   ]
  },
  {
   "cell_type": "code",
   "execution_count": 7,
   "metadata": {},
   "outputs": [
    {
     "data": {
      "text/plain": [
       "(0, -3)"
      ]
     },
     "execution_count": 7,
     "metadata": {},
     "output_type": "execute_result"
    },
    {
     "data": {
      "image/png": "[encoded data removed]",
      "text/plain": [
       "<Figure size 432x288 with 3 Axes>"
      ]
     },
     "metadata": {
      "needs_background": "light"
     },
     "output_type": "display_data"
    }
   ],
   "source": [
    "apply_kernels(174, 190)"
   ]
  },
  {
   "cell_type": "code",
   "execution_count": 8,
   "metadata": {},
   "outputs": [
    {
     "data": {
      "text/plain": [
       "(1, -3)"
      ]
     },
     "execution_count": 8,
     "metadata": {},
     "output_type": "execute_result"
    },
    {
     "data": {
      "image/png": "[encoded data removed]",
      "text/plain": [
       "<Figure size 432x288 with 3 Axes>"
      ]
     },
     "metadata": {
      "needs_background": "light"
     },
     "output_type": "display_data"
    }
   ],
   "source": [
    "apply_kernels(422, 486)"
   ]
  },
  {
   "cell_type": "code",
   "execution_count": 9,
   "metadata": {},
   "outputs": [
    {
     "data": {
      "text/plain": [
       "(-2, 2)"
      ]
     },
     "execution_count": 9,
     "metadata": {},
     "output_type": "execute_result"
    },
    {
     "data": {
      "image/png": "[encoded data removed]",
      "text/plain": [
       "<Figure size 432x288 with 3 Axes>"
      ]
     },
     "metadata": {
      "needs_background": "light"
     },
     "output_type": "display_data"
    }
   ],
   "source": [
    "apply_kernels(419, 261)"
   ]
  },
  {
   "cell_type": "code",
   "execution_count": 10,
   "metadata": {},
   "outputs": [
    {
     "data": {
      "text/plain": [
       "(-2, 2)"
      ]
     },
     "execution_count": 10,
     "metadata": {},
     "output_type": "execute_result"
    },
    {
     "data": {
      "image/png": "[encoded data removed]",
      "text/plain": [
       "<Figure size 432x288 with 3 Axes>"
      ]
     },
     "metadata": {
      "needs_background": "light"
     },
     "output_type": "display_data"
    }
   ],
   "source": [
    "apply_kernels(377, 253)"
   ]
  },
  {
   "cell_type": "code",
   "execution_count": 11,
   "metadata": {},
   "outputs": [],
   "source": [
    "def apply_kernels_2(idx, idy):\n",
    "    \"\"\"Wall angle def. wrt. ingoing normal, horizontal axis (angle 0), and ascending vertical direction (downward).\"\"\"\n",
    "\n",
    "    wall_chunk = walls[idy-1:idy+2, idx-1:idx+2]\n",
    "\n",
    "    ver_mult = ver_kernel * wall_chunk\n",
    "    hor_mult = hor_kernel * wall_chunk\n",
    "    \n",
    "    sumy = np.sum(ver_mult)\n",
    "    sumx = np.sum(hor_mult)\n",
    "    \n",
    "    asumy = abs(sumy)\n",
    "    asumx = abs(sumx)\n",
    "\n",
    "    wall_loc = None\n",
    "    wall_angle = None\n",
    "\n",
    "    if sumx == 0:\n",
    "        if sumy < 0:\n",
    "            wall_loc = 'above'\n",
    "            wall_angle = -90.\n",
    "        elif sumy > 0:\n",
    "            wall_loc = 'below'\n",
    "            wall_angle = 90\n",
    "    elif sumy == 0:\n",
    "        if sumx < 0:\n",
    "            wall_loc = 'left'\n",
    "            wall_angle = 180.\n",
    "        elif sumx > 0:\n",
    "            wall_loc = 'right'\n",
    "            wall_angle = 0.\n",
    "    elif sumx < 0 and sumy < 0:\n",
    "        wall_loc = 'above-left'\n",
    "        if asumx < asumy:\n",
    "            wall_angle = -112.5\n",
    "        elif asumx == asumy:\n",
    "            wall_angle = -135.\n",
    "        elif asumx > asumy:\n",
    "            wall_angle = -157.5\n",
    "    elif sumx < 0 and sumy > 0:\n",
    "        wall_loc = 'below-left'\n",
    "        if asumx < asumy:\n",
    "            wall_angle = 112.5\n",
    "        elif asumx == asumy:\n",
    "            wall_angle = 135.\n",
    "        elif asumx > asumy:\n",
    "            wall_angle = 157.5\n",
    "    elif sumx > 0 and sumy > 0:\n",
    "        wall_loc = 'below-right'\n",
    "        if asumx < asumy:\n",
    "            wall_angle = 67.5\n",
    "        elif asumx == asumy:\n",
    "            wall_angle = 45.\n",
    "        elif asumx > asumy:\n",
    "            wall_angle = 22.5\n",
    "    elif sumx > 0 and sumy < 0:\n",
    "        wall_loc = 'above-right'\n",
    "        if asumx < asumy:\n",
    "            wall_angle = -22.5\n",
    "        elif asumx == asumy:\n",
    "            wall_angle = -45.\n",
    "        elif asumx > asumy:\n",
    "            wall_angle = -67.5\n",
    "\n",
    "    print(wall_loc, '|', wall_angle)\n",
    "\n",
    "    _, (ax1, ax2, ax3) = plt.subplots(1, 3)\n",
    "\n",
    "    ax1.imshow(wall_chunk, cmap='gray', interpolation='nearest', vmin=-2, vmax=2)\n",
    "    ax2.imshow(ver_mult, cmap='gray', interpolation='nearest', vmin=-1, vmax=1)\n",
    "    ax3.imshow(hor_mult, cmap='gray', interpolation='nearest', vmin=-1, vmax=1)\n",
    "    \n",
    "    ax1.set_title('Wall chunk')\n",
    "    ax2.set_title('Ver. mult.')\n",
    "    ax3.set_title('Hor. mult.');"
   ]
  },
  {
   "cell_type": "code",
   "execution_count": 12,
   "metadata": {},
   "outputs": [
    {
     "name": "stdout",
     "output_type": "stream",
     "text": [
      "above | -90.0\n"
     ]
    },
    {
     "data": {
      "image/png": "[encoded data removed]",
      "text/plain": [
       "<Figure size 432x288 with 3 Axes>"
      ]
     },
     "metadata": {
      "needs_background": "light"
     },
     "output_type": "display_data"
    }
   ],
   "source": [
    "apply_kernels_2(247, 136)"
   ]
  },
  {
   "cell_type": "code",
   "execution_count": 13,
   "metadata": {},
   "outputs": [
    {
     "name": "stdout",
     "output_type": "stream",
     "text": [
      "below | 90\n"
     ]
    },
    {
     "data": {
      "image/png": "[encoded data removed]",
      "text/plain": [
       "<Figure size 432x288 with 3 Axes>"
      ]
     },
     "metadata": {
      "needs_background": "light"
     },
     "output_type": "display_data"
    }
   ],
   "source": [
    "apply_kernels_2(247, 135)"
   ]
  },
  {
   "cell_type": "code",
   "execution_count": 14,
   "metadata": {},
   "outputs": [
    {
     "name": "stdout",
     "output_type": "stream",
     "text": [
      "left | 180.0\n"
     ]
    },
    {
     "data": {
      "image/png": "[encoded data removed]",
      "text/plain": [
       "<Figure size 432x288 with 3 Axes>"
      ]
     },
     "metadata": {
      "needs_background": "light"
     },
     "output_type": "display_data"
    }
   ],
   "source": [
    "apply_kernels_2(422, 489)"
   ]
  },
  {
   "cell_type": "code",
   "execution_count": 15,
   "metadata": {},
   "outputs": [
    {
     "name": "stdout",
     "output_type": "stream",
     "text": [
      "right | 0.0\n"
     ]
    },
    {
     "data": {
      "image/png": "[encoded data removed]",
      "text/plain": [
       "<Figure size 432x288 with 3 Axes>"
      ]
     },
     "metadata": {
      "needs_background": "light"
     },
     "output_type": "display_data"
    }
   ],
   "source": [
    "apply_kernels_2(432, 425)"
   ]
  },
  {
   "cell_type": "code",
   "execution_count": 16,
   "metadata": {},
   "outputs": [
    {
     "name": "stdout",
     "output_type": "stream",
     "text": [
      "below-left | 135.0\n"
     ]
    },
    {
     "data": {
      "image/png": "[encoded data removed]",
      "text/plain": [
       "<Figure size 432x288 with 3 Axes>"
      ]
     },
     "metadata": {
      "needs_background": "light"
     },
     "output_type": "display_data"
    }
   ],
   "source": [
    "apply_kernels_2(422, 487)"
   ]
  },
  {
   "cell_type": "code",
   "execution_count": 17,
   "metadata": {},
   "outputs": [
    {
     "name": "stdout",
     "output_type": "stream",
     "text": [
      "above-right | -45.0\n"
     ]
    },
    {
     "data": {
      "image/png": "[encoded data removed]",
      "text/plain": [
       "<Figure size 432x288 with 3 Axes>"
      ]
     },
     "metadata": {
      "needs_background": "light"
     },
     "output_type": "display_data"
    }
   ],
   "source": [
    "apply_kernels_2(378, 254)"
   ]
  },
  {
   "cell_type": "code",
   "execution_count": 18,
   "metadata": {},
   "outputs": [
    {
     "name": "stdout",
     "output_type": "stream",
     "text": [
      "above-right | -45.0\n"
     ]
    },
    {
     "data": {
      "image/png": "[encoded data removed]",
      "text/plain": [
       "<Figure size 432x288 with 3 Axes>"
      ]
     },
     "metadata": {
      "needs_background": "light"
     },
     "output_type": "display_data"
    }
   ],
   "source": [
    "apply_kernels_2(432, 423)"
   ]
  },
  {
   "cell_type": "code",
   "execution_count": 19,
   "metadata": {},
   "outputs": [
    {
     "name": "stdout",
     "output_type": "stream",
     "text": [
      "above-left | -135.0\n"
     ]
    },
    {
     "data": {
      "image/png": "[encoded data removed]",
      "text/plain": [
       "<Figure size 432x288 with 3 Axes>"
      ]
     },
     "metadata": {
      "needs_background": "light"
     },
     "output_type": "display_data"
    }
   ],
   "source": [
    "apply_kernels_2(248, 136)"
   ]
  },
  {
   "cell_type": "code",
   "execution_count": 20,
   "metadata": {},
   "outputs": [
    {
     "name": "stdout",
     "output_type": "stream",
     "text": [
      "below-right | 45.0\n"
     ]
    },
    {
     "data": {
      "image/png": "[encoded data removed]",
      "text/plain": [
       "<Figure size 432x288 with 3 Axes>"
      ]
     },
     "metadata": {
      "needs_background": "light"
     },
     "output_type": "display_data"
    }
   ],
   "source": [
    "apply_kernels_2(282, 135)"
   ]
  },
  {
   "cell_type": "code",
   "execution_count": 21,
   "metadata": {},
   "outputs": [
    {
     "name": "stdout",
     "output_type": "stream",
     "text": [
      "above-right | -67.5\n"
     ]
    },
    {
     "data": {
      "image/png": "[encoded data removed]",
      "text/plain": [
       "<Figure size 432x288 with 3 Axes>"
      ]
     },
     "metadata": {
      "needs_background": "light"
     },
     "output_type": "display_data"
    }
   ],
   "source": [
    "apply_kernels_2(432, 424)"
   ]
  },
  {
   "cell_type": "code",
   "execution_count": 22,
   "metadata": {},
   "outputs": [
    {
     "name": "stdout",
     "output_type": "stream",
     "text": [
      "above-left | -157.5\n"
     ]
    },
    {
     "data": {
      "image/png": "[encoded data removed]",
      "text/plain": [
       "<Figure size 432x288 with 3 Axes>"
      ]
     },
     "metadata": {
      "needs_background": "light"
     },
     "output_type": "display_data"
    }
   ],
   "source": [
    "apply_kernels_2(423, 488)"
   ]
  },
  {
   "cell_type": "code",
   "execution_count": 23,
   "metadata": {},
   "outputs": [
    {
     "name": "stdout",
     "output_type": "stream",
     "text": [
      "above-left | -112.5\n"
     ]
    },
    {
     "data": {
      "image/png": "[encoded data removed]",
      "text/plain": [
       "<Figure size 432x288 with 3 Axes>"
      ]
     },
     "metadata": {
      "needs_background": "light"
     },
     "output_type": "display_data"
    }
   ],
   "source": [
    "apply_kernels_2(532, 339)"
   ]
  },
  {
   "cell_type": "code",
   "execution_count": 24,
   "metadata": {},
   "outputs": [
    {
     "name": "stdout",
     "output_type": "stream",
     "text": [
      "above-right | -22.5\n"
     ]
    },
    {
     "data": {
      "image/png": "[encoded data removed]",
      "text/plain": [
       "<Figure size 432x288 with 3 Axes>"
      ]
     },
     "metadata": {
      "needs_background": "light"
     },
     "output_type": "display_data"
    }
   ],
   "source": [
    "apply_kernels_2(511, 470)"
   ]
  },
  {
   "cell_type": "code",
   "execution_count": 25,
   "metadata": {},
   "outputs": [
    {
     "name": "stdout",
     "output_type": "stream",
     "text": [
      "below-left | 157.5\n"
     ]
    },
    {
     "data": {
      "image/png": "[encoded data removed]",
      "text/plain": [
       "<Figure size 432x288 with 3 Axes>"
      ]
     },
     "metadata": {
      "needs_background": "light"
     },
     "output_type": "display_data"
    }
   ],
   "source": [
    "apply_kernels_2(423, 487)"
   ]
  },
  {
   "cell_type": "code",
   "execution_count": 26,
   "metadata": {},
   "outputs": [
    {
     "name": "stdout",
     "output_type": "stream",
     "text": [
      "below-right | 22.5\n"
     ]
    },
    {
     "data": {
      "image/png": "[encoded data removed]",
      "text/plain": [
       "<Figure size 432x288 with 3 Axes>"
      ]
     },
     "metadata": {
      "needs_background": "light"
     },
     "output_type": "display_data"
    }
   ],
   "source": [
    "apply_kernels_2(600, 393)"
   ]
  },
  {
   "cell_type": "code",
   "execution_count": 27,
   "metadata": {},
   "outputs": [
    {
     "name": "stdout",
     "output_type": "stream",
     "text": [
      "below-left | 112.5\n"
     ]
    },
    {
     "data": {
      "image/png": "[encoded data removed]",
      "text/plain": [
       "<Figure size 432x288 with 3 Axes>"
      ]
     },
     "metadata": {
      "needs_background": "light"
     },
     "output_type": "display_data"
    }
   ],
   "source": [
    "apply_kernels_2(423, 493)"
   ]
  },
  {
   "cell_type": "code",
   "execution_count": 28,
   "metadata": {},
   "outputs": [
    {
     "name": "stdout",
     "output_type": "stream",
     "text": [
      "below-left | 112.5\n"
     ]
    },
    {
     "data": {
      "image/png": "[encoded data removed]",
      "text/plain": [
       "<Figure size 432x288 with 3 Axes>"
      ]
     },
     "metadata": {
      "needs_background": "light"
     },
     "output_type": "display_data"
    }
   ],
   "source": [
    "apply_kernels_2(51, 396)"
   ]
  },
  {
   "cell_type": "code",
   "execution_count": 29,
   "metadata": {},
   "outputs": [
    {
     "name": "stdout",
     "output_type": "stream",
     "text": [
      "below-right | 67.5\n"
     ]
    },
    {
     "data": {
      "image/png": "[encoded data removed]",
      "text/plain": [
       "<Figure size 432x288 with 3 Axes>"
      ]
     },
     "metadata": {
      "needs_background": "light"
     },
     "output_type": "display_data"
    }
   ],
   "source": [
    "apply_kernels_2(602, 382)"
   ]
  },
  {
   "cell_type": "markdown",
   "metadata": {},
   "source": [
    "### Wall deflection"
   ]
  },
  {
   "cell_type": "code",
   "execution_count": 30,
   "metadata": {},
   "outputs": [],
   "source": [
    "def fix_angle_range(angle):\n",
    "    angle %= 2.*np.pi\n",
    "\n",
    "    if angle > np.pi:\n",
    "        angle -= 2.*np.pi\n",
    "\n",
    "    elif angle < -np.pi:\n",
    "        angle += 2.*np.pi\n",
    "\n",
    "    return angle\n",
    "\n",
    "def wall_bounce(src_x, src_y, wall_x, wall_y, v_init=None, v_preservation=0.75):\n",
    "    wall_chunk = walls[wall_y-1:wall_y+2, wall_x-1:wall_x+2]\n",
    "\n",
    "    # Get correlations\n",
    "    ver_mult = ver_kernel * wall_chunk\n",
    "    hor_mult = hor_kernel * wall_chunk\n",
    "\n",
    "    ver_correlation = np.sum(ver_mult)\n",
    "    hor_correlation = np.sum(hor_mult)\n",
    "\n",
    "    # Infer angle of wall's incoming normal\n",
    "    wall_angle = np.arctan2(ver_correlation, hor_correlation)\n",
    "\n",
    "    # Edge case handling was more intuitive under a different definition\n",
    "    wall_angle -= np.pi/2.\n",
    "\n",
    "    # Get difference relative to wall angle\n",
    "    incoming_angle = np.arctan2(wall_y - src_y, wall_x - src_x)\n",
    "    angle_diff = fix_angle_range(incoming_angle - wall_angle)\n",
    "\n",
    "    # Handle edge cases\n",
    "    if 0. < angle_diff < np.pi:\n",
    "        print('Within 90 deg from the normal\\n' + '-'*30)\n",
    "        bounce_angle = 2.*wall_angle - incoming_angle\n",
    "    elif -np.pi/4. < angle_diff <= 0.:\n",
    "        print('Within 135 deg from the normal\\n' + '-'*30)\n",
    "        bounce_angle = 2.*wall_angle - incoming_angle - np.pi/2.\n",
    "    elif (angle_diff == np.pi) or (-np.pi <= angle_diff < -3.*np.pi/4.):\n",
    "        print('Within 135 deg from the normal\\n' + '-'*30)\n",
    "        bounce_angle = 2.*wall_angle - incoming_angle + np.pi/2.\n",
    "    else:\n",
    "        print('More than 135 deg from the normal\\n' + '-'*30)\n",
    "        bounce_angle = 2.*wall_angle - incoming_angle + np.pi\n",
    "\n",
    "    bounce_angle = fix_angle_range(bounce_angle)\n",
    "\n",
    "    print('Wall angle:     %.2f' % ((wall_angle + np.pi/2.) * 180./np.pi))\n",
    "    print('Incoming angle: %.2f' % (incoming_angle * 180./np.pi))\n",
    "    print('Bounce angle:   %.2f' % (bounce_angle * 180./np.pi))\n",
    "\n",
    "    # Get new direction, set new target\n",
    "    bounce_dir = np.array([np.cos(bounce_angle), np.sin(bounce_angle)])\n",
    "\n",
    "    # Set new target\n",
    "    v_init = np.linalg.norm([wall_y-src_y, wall_x-src_x]) if v_init is None else v_init\n",
    "    v_new = v_init * v_preservation\n",
    "    \n",
    "    new_x, new_y = np.array([wall_x, wall_y]) + bounce_dir * v_new\n",
    "\n",
    "    src_x, src_y = round(src_x), round(src_y)\n",
    "    wall_x, wall_y = round(wall_x), round(wall_y)\n",
    "    new_x, new_y = round(new_x), round(new_y)\n",
    "    v_init = round(v_init)\n",
    "    \n",
    "    drawable_wall_chunk = walls.astype(np.float32)\n",
    "\n",
    "    drawable_wall_chunk = walls.astype(np.float32)\n",
    "    drawable_wall_chunk[src_y, src_x] = -2.\n",
    "    drawable_wall_chunk[wall_y, wall_x] = -0.5\n",
    "    drawable_wall_chunk[new_y, new_x] = 2.\n",
    "    drawable_wall_chunk = drawable_wall_chunk[wall_y-1-v_init:wall_y+2+v_init, wall_x-1-v_init:wall_x+2+v_init]\n",
    "\n",
    "    _, (ax1, ax2) = plt.subplots(1, 2, figsize=(6, 4))\n",
    "    \n",
    "    ax1.imshow(wall_chunk, cmap='gray', interpolation='nearest', vmin=-2, vmax=2)\n",
    "    ax2.imshow(drawable_wall_chunk, cmap='gray', interpolation='nearest', vmin=-2, vmax=2)\n",
    "    \n",
    "    ax1.set_title('Wall chunk')\n",
    "    ax2.set_title('Bounce res.');"
   ]
  },
  {
   "cell_type": "code",
   "execution_count": 31,
   "metadata": {},
   "outputs": [
    {
     "name": "stdout",
     "output_type": "stream",
     "text": [
      "Within 90 deg from the normal\n",
      "------------------------------\n",
      "Wall angle:     90.00\n",
      "Incoming angle: 53.13\n",
      "Bounce angle:   -53.13\n"
     ]
    },
    {
     "data": {
      "image/png": "[encoded data removed]",
      "text/plain": [
       "<Figure size 432x288 with 2 Axes>"
      ]
     },
     "metadata": {
      "needs_background": "light"
     },
     "output_type": "display_data"
    }
   ],
   "source": [
    "wall_bounce(244, 131, 247, 135)"
   ]
  },
  {
   "cell_type": "code",
   "execution_count": 32,
   "metadata": {},
   "outputs": [
    {
     "name": "stdout",
     "output_type": "stream",
     "text": [
      "Within 90 deg from the normal\n",
      "------------------------------\n",
      "Wall angle:     63.43\n",
      "Incoming angle: 45.00\n",
      "Bounce angle:   -98.13\n"
     ]
    },
    {
     "data": {
      "image/png": "[encoded data removed]",
      "text/plain": [
       "<Figure size 432x288 with 2 Axes>"
      ]
     },
     "metadata": {
      "needs_background": "light"
     },
     "output_type": "display_data"
    }
   ],
   "source": [
    "wall_bounce(599, 379, 602, 382)"
   ]
  },
  {
   "cell_type": "code",
   "execution_count": 33,
   "metadata": {},
   "outputs": [
    {
     "name": "stdout",
     "output_type": "stream",
     "text": [
      "Within 90 deg from the normal\n",
      "------------------------------\n",
      "Wall angle:     45.00\n",
      "Incoming angle: 68.20\n",
      "Bounce angle:   -158.20\n"
     ]
    },
    {
     "data": {
      "image/png": "[encoded data removed]",
      "text/plain": [
       "<Figure size 432x288 with 2 Axes>"
      ]
     },
     "metadata": {
      "needs_background": "light"
     },
     "output_type": "display_data"
    }
   ],
   "source": [
    "wall_bounce(280, 130, 282, 135)"
   ]
  },
  {
   "cell_type": "code",
   "execution_count": 34,
   "metadata": {},
   "outputs": [
    {
     "name": "stdout",
     "output_type": "stream",
     "text": [
      "Within 90 deg from the normal\n",
      "------------------------------\n",
      "Wall angle:     26.57\n",
      "Incoming angle: -30.96\n",
      "Bounce angle:   -95.91\n"
     ]
    },
    {
     "data": {
      "image/png": "[encoded data removed]",
      "text/plain": [
       "<Figure size 432x288 with 2 Axes>"
      ]
     },
     "metadata": {
      "needs_background": "light"
     },
     "output_type": "display_data"
    }
   ],
   "source": [
    "wall_bounce(595, 396, 600, 393)"
   ]
  },
  {
   "cell_type": "code",
   "execution_count": 35,
   "metadata": {},
   "outputs": [
    {
     "name": "stdout",
     "output_type": "stream",
     "text": [
      "Within 90 deg from the normal\n",
      "------------------------------\n",
      "Wall angle:     0.00\n",
      "Incoming angle: -45.00\n",
      "Bounce angle:   -135.00\n"
     ]
    },
    {
     "data": {
      "image/png": "[encoded data removed]",
      "text/plain": [
       "<Figure size 432x288 with 2 Axes>"
      ]
     },
     "metadata": {
      "needs_background": "light"
     },
     "output_type": "display_data"
    }
   ],
   "source": [
    "wall_bounce(430, 427, 432, 425)"
   ]
  },
  {
   "cell_type": "code",
   "execution_count": 36,
   "metadata": {},
   "outputs": [
    {
     "name": "stdout",
     "output_type": "stream",
     "text": [
      "Within 90 deg from the normal\n",
      "------------------------------\n",
      "Wall angle:     -26.57\n",
      "Incoming angle: -45.00\n",
      "Bounce angle:   171.87\n"
     ]
    },
    {
     "data": {
      "image/png": "[encoded data removed]",
      "text/plain": [
       "<Figure size 432x288 with 2 Axes>"
      ]
     },
     "metadata": {
      "needs_background": "light"
     },
     "output_type": "display_data"
    }
   ],
   "source": [
    "wall_bounce(430, 426, 432, 424)"
   ]
  },
  {
   "cell_type": "code",
   "execution_count": 37,
   "metadata": {},
   "outputs": [
    {
     "name": "stdout",
     "output_type": "stream",
     "text": [
      "Within 90 deg from the normal\n",
      "------------------------------\n",
      "Wall angle:     -45.00\n",
      "Incoming angle: -26.57\n",
      "Bounce angle:   116.57\n"
     ]
    },
    {
     "data": {
      "image/png": "[encoded data removed]",
      "text/plain": [
       "<Figure size 432x288 with 2 Axes>"
      ]
     },
     "metadata": {
      "needs_background": "light"
     },
     "output_type": "display_data"
    }
   ],
   "source": [
    "wall_bounce(428, 425, 432, 423)"
   ]
  },
  {
   "cell_type": "code",
   "execution_count": 38,
   "metadata": {},
   "outputs": [
    {
     "name": "stdout",
     "output_type": "stream",
     "text": [
      "Within 90 deg from the normal\n",
      "------------------------------\n",
      "Wall angle:     -45.00\n",
      "Incoming angle: -90.00\n",
      "Bounce angle:   180.00\n"
     ]
    },
    {
     "data": {
      "image/png": "[encoded data removed]",
      "text/plain": [
       "<Figure size 432x288 with 2 Axes>"
      ]
     },
     "metadata": {
      "needs_background": "light"
     },
     "output_type": "display_data"
    }
   ],
   "source": [
    "wall_bounce(378, 257, 378, 254)"
   ]
  },
  {
   "cell_type": "code",
   "execution_count": 39,
   "metadata": {},
   "outputs": [
    {
     "name": "stdout",
     "output_type": "stream",
     "text": [
      "Within 135 deg from the normal\n",
      "------------------------------\n",
      "Wall angle:     -45.00\n",
      "Incoming angle: -135.00\n",
      "Bounce angle:   135.00\n"
     ]
    },
    {
     "data": {
      "image/png": "[encoded data removed]",
      "text/plain": [
       "<Figure size 432x288 with 2 Axes>"
      ]
     },
     "metadata": {
      "needs_background": "light"
     },
     "output_type": "display_data"
    }
   ],
   "source": [
    "wall_bounce(381, 257, 378, 254)"
   ]
  },
  {
   "cell_type": "code",
   "execution_count": 40,
   "metadata": {},
   "outputs": [
    {
     "name": "stdout",
     "output_type": "stream",
     "text": [
      "Within 135 deg from the normal\n",
      "------------------------------\n",
      "Wall angle:     -45.00\n",
      "Incoming angle: -158.20\n",
      "Bounce angle:   158.20\n"
     ]
    },
    {
     "data": {
      "image/png": "[encoded data removed]",
      "text/plain": [
       "<Figure size 432x288 with 2 Axes>"
      ]
     },
     "metadata": {
      "needs_background": "light"
     },
     "output_type": "display_data"
    }
   ],
   "source": [
    "wall_bounce(383, 256, 378, 254)"
   ]
  },
  {
   "cell_type": "code",
   "execution_count": 41,
   "metadata": {},
   "outputs": [
    {
     "name": "stdout",
     "output_type": "stream",
     "text": [
      "More than 135 deg from the normal\n",
      "------------------------------\n",
      "Wall angle:     -45.00\n",
      "Incoming angle: 172.87\n",
      "Bounce angle:   97.13\n"
     ]
    },
    {
     "data": {
      "image/png": "[encoded data removed]",
      "text/plain": [
       "<Figure size 432x288 with 2 Axes>"
      ]
     },
     "metadata": {
      "needs_background": "light"
     },
     "output_type": "display_data"
    }
   ],
   "source": [
    "wall_bounce(386, 253, 378, 254)"
   ]
  },
  {
   "cell_type": "code",
   "execution_count": 42,
   "metadata": {},
   "outputs": [
    {
     "name": "stdout",
     "output_type": "stream",
     "text": [
      "Within 90 deg from the normal\n",
      "------------------------------\n",
      "Wall angle:     -63.43\n",
      "Incoming angle: -68.20\n",
      "Bounce angle:   121.33\n"
     ]
    },
    {
     "data": {
      "image/png": "[encoded data removed]",
      "text/plain": [
       "<Figure size 432x288 with 2 Axes>"
      ]
     },
     "metadata": {
      "needs_background": "light"
     },
     "output_type": "display_data"
    }
   ],
   "source": [
    "wall_bounce(509, 475, 511, 470)"
   ]
  },
  {
   "cell_type": "code",
   "execution_count": 43,
   "metadata": {},
   "outputs": [
    {
     "name": "stdout",
     "output_type": "stream",
     "text": [
      "Within 90 deg from the normal\n",
      "------------------------------\n",
      "Wall angle:     -90.00\n",
      "Incoming angle: -33.69\n",
      "Bounce angle:   33.69\n"
     ]
    },
    {
     "data": {
      "image/png": "[encoded data removed]",
      "text/plain": [
       "<Figure size 432x288 with 2 Axes>"
      ]
     },
     "metadata": {
      "needs_background": "light"
     },
     "output_type": "display_data"
    }
   ],
   "source": [
    "wall_bounce(244, 138, 247, 136)"
   ]
  },
  {
   "cell_type": "code",
   "execution_count": 44,
   "metadata": {},
   "outputs": [
    {
     "name": "stdout",
     "output_type": "stream",
     "text": [
      "Within 90 deg from the normal\n",
      "------------------------------\n",
      "Wall angle:     -116.57\n",
      "Incoming angle: -161.57\n",
      "Bounce angle:   108.43\n"
     ]
    },
    {
     "data": {
      "image/png": "[encoded data removed]",
      "text/plain": [
       "<Figure size 432x288 with 2 Axes>"
      ]
     },
     "metadata": {
      "needs_background": "light"
     },
     "output_type": "display_data"
    }
   ],
   "source": [
    "wall_bounce(535, 340, 532, 339)"
   ]
  },
  {
   "cell_type": "code",
   "execution_count": 45,
   "metadata": {},
   "outputs": [
    {
     "name": "stdout",
     "output_type": "stream",
     "text": [
      "Within 135 deg from the normal\n",
      "------------------------------\n",
      "Wall angle:     -135.00\n",
      "Incoming angle: -18.43\n",
      "Bounce angle:   18.43\n"
     ]
    },
    {
     "data": {
      "image/png": "[encoded data removed]",
      "text/plain": [
       "<Figure size 432x288 with 2 Axes>"
      ]
     },
     "metadata": {
      "needs_background": "light"
     },
     "output_type": "display_data"
    }
   ],
   "source": [
    "wall_bounce(242, 138, 248, 136)"
   ]
  },
  {
   "cell_type": "code",
   "execution_count": 46,
   "metadata": {},
   "outputs": [
    {
     "name": "stdout",
     "output_type": "stream",
     "text": [
      "More than 135 deg from the normal\n",
      "------------------------------\n",
      "Wall angle:     -135.00\n",
      "Incoming angle: 9.46\n",
      "Bounce angle:   80.54\n"
     ]
    },
    {
     "data": {
      "image/png": "[encoded data removed]",
      "text/plain": [
       "<Figure size 432x288 with 2 Axes>"
      ]
     },
     "metadata": {
      "needs_background": "light"
     },
     "output_type": "display_data"
    }
   ],
   "source": [
    "wall_bounce(242, 135, 248, 136)"
   ]
  },
  {
   "cell_type": "code",
   "execution_count": 47,
   "metadata": {},
   "outputs": [
    {
     "name": "stdout",
     "output_type": "stream",
     "text": [
      "Within 90 deg from the normal\n",
      "------------------------------\n",
      "Wall angle:     -161.57\n",
      "Incoming angle: 180.00\n",
      "Bounce angle:   36.87\n"
     ]
    },
    {
     "data": {
      "image/png": "[encoded data removed]",
      "text/plain": [
       "<Figure size 432x288 with 2 Axes>"
      ]
     },
     "metadata": {
      "needs_background": "light"
     },
     "output_type": "display_data"
    }
   ],
   "source": [
    "wall_bounce(426, 488, 423, 488)"
   ]
  },
  {
   "cell_type": "code",
   "execution_count": 48,
   "metadata": {},
   "outputs": [
    {
     "name": "stdout",
     "output_type": "stream",
     "text": [
      "Within 90 deg from the normal\n",
      "------------------------------\n",
      "Wall angle:     180.00\n",
      "Incoming angle: 180.00\n",
      "Bounce angle:   0.00\n"
     ]
    },
    {
     "data": {
      "image/png": "[encoded data removed]",
      "text/plain": [
       "<Figure size 432x288 with 2 Axes>"
      ]
     },
     "metadata": {
      "needs_background": "light"
     },
     "output_type": "display_data"
    }
   ],
   "source": [
    "wall_bounce(426, 489, 422, 489)"
   ]
  },
  {
   "cell_type": "code",
   "execution_count": 49,
   "metadata": {},
   "outputs": [
    {
     "name": "stdout",
     "output_type": "stream",
     "text": [
      "Within 135 deg from the normal\n",
      "------------------------------\n",
      "Wall angle:     161.57\n",
      "Incoming angle: -108.43\n",
      "Bounce angle:   -18.43\n"
     ]
    },
    {
     "data": {
      "image/png": "[encoded data removed]",
      "text/plain": [
       "<Figure size 432x288 with 2 Axes>"
      ]
     },
     "metadata": {
      "needs_background": "light"
     },
     "output_type": "display_data"
    }
   ],
   "source": [
    "wall_bounce(424, 490, 423, 487)"
   ]
  },
  {
   "cell_type": "code",
   "execution_count": 50,
   "metadata": {},
   "outputs": [
    {
     "name": "stdout",
     "output_type": "stream",
     "text": [
      "Within 90 deg from the normal\n",
      "------------------------------\n",
      "Wall angle:     135.00\n",
      "Incoming angle: 143.13\n",
      "Bounce angle:   -53.13\n"
     ]
    },
    {
     "data": {
      "image/png": "[encoded data removed]",
      "text/plain": [
       "<Figure size 432x288 with 2 Axes>"
      ]
     },
     "metadata": {
      "needs_background": "light"
     },
     "output_type": "display_data"
    }
   ],
   "source": [
    "wall_bounce(426, 484, 422, 487)"
   ]
  },
  {
   "cell_type": "code",
   "execution_count": 51,
   "metadata": {},
   "outputs": [
    {
     "name": "stdout",
     "output_type": "stream",
     "text": [
      "Within 90 deg from the normal\n",
      "------------------------------\n",
      "Wall angle:     116.57\n",
      "Incoming angle: 111.80\n",
      "Bounce angle:   -58.67\n"
     ]
    },
    {
     "data": {
      "image/png": "[encoded data removed]",
      "text/plain": [
       "<Figure size 432x288 with 2 Axes>"
      ]
     },
     "metadata": {
      "needs_background": "light"
     },
     "output_type": "display_data"
    }
   ],
   "source": [
    "wall_bounce(425, 488, 423, 493)"
   ]
  },
  {
   "cell_type": "code",
   "execution_count": 52,
   "metadata": {},
   "outputs": [
    {
     "name": "stdout",
     "output_type": "stream",
     "text": [
      "Within 90 deg from the normal\n",
      "------------------------------\n",
      "Wall angle:     108.43\n",
      "Incoming angle: 180.00\n",
      "Bounce angle:   -143.13\n"
     ]
    },
    {
     "data": {
      "image/png": "[encoded data removed]",
      "text/plain": [
       "<Figure size 432x288 with 2 Axes>"
      ]
     },
     "metadata": {
      "needs_background": "light"
     },
     "output_type": "display_data"
    }
   ],
   "source": [
    "wall_bounce(56, 396, 51, 396)"
   ]
  },
  {
   "cell_type": "code",
   "execution_count": null,
   "metadata": {},
   "outputs": [],
   "source": []
  }
 ],
 "metadata": {
  "kernelspec": {
   "display_name": "Python 3",
   "language": "python",
   "name": "python3"
  },
  "language_info": {
   "codemirror_mode": {
    "name": "ipython",
    "version": 3
   },
   "file_extension": ".py",
   "mimetype": "text/x-python",
   "name": "python",
   "nbconvert_exporter": "python",
   "pygments_lexer": "ipython3",
   "version": "3.7.9"
  }
 },
 "nbformat": 4,
 "nbformat_minor": 4
}
